{
  "nbformat": 4,
  "nbformat_minor": 0,
  "metadata": {
    "colab": {
      "provenance": []
    },
    "kernelspec": {
      "name": "python3",
      "display_name": "Python 3"
    },
    "language_info": {
      "name": "python"
    }
  },
  "cells": [
    {
      "cell_type": "code",
      "execution_count": null,
      "metadata": {
        "colab": {
          "base_uri": "https://localhost:8080/"
        },
        "id": "y2v5HzIgYbNE",
        "outputId": "637776ca-31a6-4b65-dac9-ebdb499bd491"
      },
      "outputs": [
        {
          "output_type": "stream",
          "name": "stdout",
          "text": [
            "\u001b[?25l     \u001b[90m━━━━━━━━━━━━━━━━━━━━━━━━━━━━━━━━━━━━━━━━\u001b[0m \u001b[32m0.0/189.2 kB\u001b[0m \u001b[31m?\u001b[0m eta \u001b[36m-:--:--\u001b[0m\r\u001b[2K     \u001b[91m━━━━━━\u001b[0m\u001b[90m╺\u001b[0m\u001b[90m━━━━━━━━━━━━━━━━━━━━━━━━━━━━━━━━━\u001b[0m \u001b[32m30.7/189.2 kB\u001b[0m \u001b[31m812.7 kB/s\u001b[0m eta \u001b[36m0:00:01\u001b[0m\r\u001b[2K     \u001b[91m━━━━━━━━━━━━━━━━━\u001b[0m\u001b[90m╺\u001b[0m\u001b[90m━━━━━━━━━━━━━━━━━━━━━━\u001b[0m \u001b[32m81.9/189.2 kB\u001b[0m \u001b[31m1.2 MB/s\u001b[0m eta \u001b[36m0:00:01\u001b[0m\r\u001b[2K     \u001b[91m━━━━━━━━━━━━━━━━━━━━━━━━━━━━━━━━━━━━━━\u001b[0m\u001b[91m╸\u001b[0m\u001b[90m━\u001b[0m \u001b[32m184.3/189.2 kB\u001b[0m \u001b[31m2.0 MB/s\u001b[0m eta \u001b[36m0:00:01\u001b[0m\r\u001b[2K     \u001b[90m━━━━━━━━━━━━━━━━━━━━━━━━━━━━━━━━━━━━━━━━\u001b[0m \u001b[32m189.2/189.2 kB\u001b[0m \u001b[31m1.6 MB/s\u001b[0m eta \u001b[36m0:00:00\u001b[0m\n",
            "\u001b[?25h\u001b[31mERROR: pip's dependency resolver does not currently take into account all the packages that are installed. This behaviour is the source of the following dependency conflicts.\n",
            "google-colab 1.0.0 requires google-auth==2.27.0, but you have google-auth 2.29.0 which is incompatible.\u001b[0m\u001b[31m\n",
            "\u001b[2K     \u001b[90m━━━━━━━━━━━━━━━━━━━━━━━━━━━━━━━━━━━━━━━━\u001b[0m \u001b[32m817.7/817.7 kB\u001b[0m \u001b[31m5.1 MB/s\u001b[0m eta \u001b[36m0:00:00\u001b[0m\n",
            "\u001b[2K     \u001b[90m━━━━━━━━━━━━━━━━━━━━━━━━━━━━━━━━━━━━━━━━\u001b[0m \u001b[32m311.2/311.2 kB\u001b[0m \u001b[31m19.8 MB/s\u001b[0m eta \u001b[36m0:00:00\u001b[0m\n",
            "\u001b[2K     \u001b[90m━━━━━━━━━━━━━━━━━━━━━━━━━━━━━━━━━━━━━━━━\u001b[0m \u001b[32m525.5/525.5 kB\u001b[0m \u001b[31m27.5 MB/s\u001b[0m eta \u001b[36m0:00:00\u001b[0m\n",
            "\u001b[2K     \u001b[90m━━━━━━━━━━━━━━━━━━━━━━━━━━━━━━━━━━━━━━━━\u001b[0m \u001b[32m1.9/1.9 MB\u001b[0m \u001b[31m33.3 MB/s\u001b[0m eta \u001b[36m0:00:00\u001b[0m\n",
            "\u001b[2K     \u001b[90m━━━━━━━━━━━━━━━━━━━━━━━━━━━━━━━━━━━━━━━━\u001b[0m \u001b[32m291.3/291.3 kB\u001b[0m \u001b[31m27.1 MB/s\u001b[0m eta \u001b[36m0:00:00\u001b[0m\n",
            "\u001b[2K     \u001b[90m━━━━━━━━━━━━━━━━━━━━━━━━━━━━━━━━━━━━━━━━\u001b[0m \u001b[32m115.2/115.2 kB\u001b[0m \u001b[31m12.3 MB/s\u001b[0m eta \u001b[36m0:00:00\u001b[0m\n",
            "\u001b[2K     \u001b[90m━━━━━━━━━━━━━━━━━━━━━━━━━━━━━━━━━━━━━━━━\u001b[0m \u001b[32m75.6/75.6 kB\u001b[0m \u001b[31m7.9 MB/s\u001b[0m eta \u001b[36m0:00:00\u001b[0m\n",
            "\u001b[?25h\u001b[33mWARNING: Retrying (Retry(total=4, connect=None, read=None, redirect=None, status=None)) after connection broken by 'ProtocolError('Connection aborted.', RemoteDisconnected('Remote end closed connection without response'))': /simple/chroma-hnswlib/\u001b[0m\u001b[33m\n",
            "\u001b[2K     \u001b[90m━━━━━━━━━━━━━━━━━━━━━━━━━━━━━━━━━━━━━━━━\u001b[0m \u001b[32m2.4/2.4 MB\u001b[0m \u001b[31m58.5 MB/s\u001b[0m eta \u001b[36m0:00:00\u001b[0m\n",
            "\u001b[2K     \u001b[90m━━━━━━━━━━━━━━━━━━━━━━━━━━━━━━━━━━━━━━━━\u001b[0m \u001b[32m91.9/91.9 kB\u001b[0m \u001b[31m7.4 MB/s\u001b[0m eta \u001b[36m0:00:00\u001b[0m\n",
            "\u001b[2K     \u001b[90m━━━━━━━━━━━━━━━━━━━━━━━━━━━━━━━━━━━━━━━━\u001b[0m \u001b[32m60.8/60.8 kB\u001b[0m \u001b[31m6.2 MB/s\u001b[0m eta \u001b[36m0:00:00\u001b[0m\n",
            "\u001b[2K     \u001b[90m━━━━━━━━━━━━━━━━━━━━━━━━━━━━━━━━━━━━━━━━\u001b[0m \u001b[32m41.3/41.3 kB\u001b[0m \u001b[31m3.4 MB/s\u001b[0m eta \u001b[36m0:00:00\u001b[0m\n",
            "\u001b[2K     \u001b[90m━━━━━━━━━━━━━━━━━━━━━━━━━━━━━━━━━━━━━━━━\u001b[0m \u001b[32m5.4/5.4 MB\u001b[0m \u001b[31m56.3 MB/s\u001b[0m eta \u001b[36m0:00:00\u001b[0m\n",
            "\u001b[2K     \u001b[90m━━━━━━━━━━━━━━━━━━━━━━━━━━━━━━━━━━━━━━━━\u001b[0m \u001b[32m6.8/6.8 MB\u001b[0m \u001b[31m48.6 MB/s\u001b[0m eta \u001b[36m0:00:00\u001b[0m\n",
            "\u001b[2K     \u001b[90m━━━━━━━━━━━━━━━━━━━━━━━━━━━━━━━━━━━━━━━━\u001b[0m \u001b[32m60.1/60.1 kB\u001b[0m \u001b[31m6.5 MB/s\u001b[0m eta \u001b[36m0:00:00\u001b[0m\n",
            "\u001b[2K     \u001b[90m━━━━━━━━━━━━━━━━━━━━━━━━━━━━━━━━━━━━━━━━\u001b[0m \u001b[32m106.1/106.1 kB\u001b[0m \u001b[31m11.0 MB/s\u001b[0m eta \u001b[36m0:00:00\u001b[0m\n",
            "\u001b[2K     \u001b[90m━━━━━━━━━━━━━━━━━━━━━━━━━━━━━━━━━━━━━━━━\u001b[0m \u001b[32m67.3/67.3 kB\u001b[0m \u001b[31m6.2 MB/s\u001b[0m eta \u001b[36m0:00:00\u001b[0m\n",
            "\u001b[?25h  Installing build dependencies ... \u001b[?25l\u001b[?25hdone\n",
            "  Getting requirements to build wheel ... \u001b[?25l\u001b[?25hdone\n",
            "  Preparing metadata (pyproject.toml) ... \u001b[?25l\u001b[?25hdone\n",
            "\u001b[2K     \u001b[90m━━━━━━━━━━━━━━━━━━━━━━━━━━━━━━━━━━━━━━━━\u001b[0m \u001b[32m698.9/698.9 kB\u001b[0m \u001b[31m44.9 MB/s\u001b[0m eta \u001b[36m0:00:00\u001b[0m\n",
            "\u001b[2K     \u001b[90m━━━━━━━━━━━━━━━━━━━━━━━━━━━━━━━━━━━━━━━━\u001b[0m \u001b[32m1.6/1.6 MB\u001b[0m \u001b[31m70.3 MB/s\u001b[0m eta \u001b[36m0:00:00\u001b[0m\n",
            "\u001b[2K     \u001b[90m━━━━━━━━━━━━━━━━━━━━━━━━━━━━━━━━━━━━━━━━\u001b[0m \u001b[32m67.6/67.6 kB\u001b[0m \u001b[31m6.6 MB/s\u001b[0m eta \u001b[36m0:00:00\u001b[0m\n",
            "\u001b[2K     \u001b[90m━━━━━━━━━━━━━━━━━━━━━━━━━━━━━━━━━━━━━━━━\u001b[0m \u001b[32m141.1/141.1 kB\u001b[0m \u001b[31m15.0 MB/s\u001b[0m eta \u001b[36m0:00:00\u001b[0m\n",
            "\u001b[2K     \u001b[90m━━━━━━━━━━━━━━━━━━━━━━━━━━━━━━━━━━━━━━━━\u001b[0m \u001b[32m49.4/49.4 kB\u001b[0m \u001b[31m5.2 MB/s\u001b[0m eta \u001b[36m0:00:00\u001b[0m\n",
            "\u001b[2K     \u001b[90m━━━━━━━━━━━━━━━━━━━━━━━━━━━━━━━━━━━━━━━━\u001b[0m \u001b[32m71.9/71.9 kB\u001b[0m \u001b[31m7.9 MB/s\u001b[0m eta \u001b[36m0:00:00\u001b[0m\n",
            "\u001b[2K     \u001b[90m━━━━━━━━━━━━━━━━━━━━━━━━━━━━━━━━━━━━━━━━\u001b[0m \u001b[32m77.9/77.9 kB\u001b[0m \u001b[31m8.1 MB/s\u001b[0m eta \u001b[36m0:00:00\u001b[0m\n",
            "\u001b[2K     \u001b[90m━━━━━━━━━━━━━━━━━━━━━━━━━━━━━━━━━━━━━━━━\u001b[0m \u001b[32m58.3/58.3 kB\u001b[0m \u001b[31m4.7 MB/s\u001b[0m eta \u001b[36m0:00:00\u001b[0m\n",
            "\u001b[2K     \u001b[90m━━━━━━━━━━━━━━━━━━━━━━━━━━━━━━━━━━━━━━━━\u001b[0m \u001b[32m53.0/53.0 kB\u001b[0m \u001b[31m5.8 MB/s\u001b[0m eta \u001b[36m0:00:00\u001b[0m\n",
            "\u001b[2K     \u001b[90m━━━━━━━━━━━━━━━━━━━━━━━━━━━━━━━━━━━━━━━━\u001b[0m \u001b[32m46.0/46.0 kB\u001b[0m \u001b[31m4.7 MB/s\u001b[0m eta \u001b[36m0:00:00\u001b[0m\n",
            "\u001b[2K     \u001b[90m━━━━━━━━━━━━━━━━━━━━━━━━━━━━━━━━━━━━━━━━\u001b[0m \u001b[32m50.8/50.8 kB\u001b[0m \u001b[31m4.7 MB/s\u001b[0m eta \u001b[36m0:00:00\u001b[0m\n",
            "\u001b[2K     \u001b[90m━━━━━━━━━━━━━━━━━━━━━━━━━━━━━━━━━━━━━━━━\u001b[0m \u001b[32m341.4/341.4 kB\u001b[0m \u001b[31m30.5 MB/s\u001b[0m eta \u001b[36m0:00:00\u001b[0m\n",
            "\u001b[2K     \u001b[90m━━━━━━━━━━━━━━━━━━━━━━━━━━━━━━━━━━━━━━━━\u001b[0m \u001b[32m3.4/3.4 MB\u001b[0m \u001b[31m60.1 MB/s\u001b[0m eta \u001b[36m0:00:00\u001b[0m\n",
            "\u001b[2K     \u001b[90m━━━━━━━━━━━━━━━━━━━━━━━━━━━━━━━━━━━━━━━━\u001b[0m \u001b[32m1.3/1.3 MB\u001b[0m \u001b[31m43.9 MB/s\u001b[0m eta \u001b[36m0:00:00\u001b[0m\n",
            "\u001b[2K     \u001b[90m━━━━━━━━━━━━━━━━━━━━━━━━━━━━━━━━━━━━━━━━\u001b[0m \u001b[32m130.2/130.2 kB\u001b[0m \u001b[31m12.4 MB/s\u001b[0m eta \u001b[36m0:00:00\u001b[0m\n",
            "\u001b[2K     \u001b[90m━━━━━━━━━━━━━━━━━━━━━━━━━━━━━━━━━━━━━━━━\u001b[0m \u001b[32m86.8/86.8 kB\u001b[0m \u001b[31m7.7 MB/s\u001b[0m eta \u001b[36m0:00:00\u001b[0m\n",
            "\u001b[?25h  Building wheel for pypika (pyproject.toml) ... \u001b[?25l\u001b[?25hdone\n",
            "\u001b[2K     \u001b[90m━━━━━━━━━━━━━━━━━━━━━━━━━━━━━━━━━━━━━━━━\u001b[0m \u001b[32m1.8/1.8 MB\u001b[0m \u001b[31m9.1 MB/s\u001b[0m eta \u001b[36m0:00:00\u001b[0m\n",
            "\u001b[2K     \u001b[90m━━━━━━━━━━━━━━━━━━━━━━━━━━━━━━━━━━━━━━━━\u001b[0m \u001b[32m193.4/193.4 kB\u001b[0m \u001b[31m1.9 MB/s\u001b[0m eta \u001b[36m0:00:00\u001b[0m\n",
            "\u001b[2K     \u001b[90m━━━━━━━━━━━━━━━━━━━━━━━━━━━━━━━━━━━━━━━━\u001b[0m \u001b[32m4.5/4.5 MB\u001b[0m \u001b[31m17.4 MB/s\u001b[0m eta \u001b[36m0:00:00\u001b[0m\n",
            "\u001b[2K     \u001b[90m━━━━━━━━━━━━━━━━━━━━━━━━━━━━━━━━━━━━━━━━\u001b[0m \u001b[32m146.8/146.8 kB\u001b[0m \u001b[31m14.0 MB/s\u001b[0m eta \u001b[36m0:00:00\u001b[0m\n",
            "\u001b[2K     \u001b[90m━━━━━━━━━━━━━━━━━━━━━━━━━━━━━━━━━━━━━━━━\u001b[0m \u001b[32m664.5/664.5 kB\u001b[0m \u001b[31m39.2 MB/s\u001b[0m eta \u001b[36m0:00:00\u001b[0m\n",
            "\u001b[?25h\u001b[31mERROR: pip's dependency resolver does not currently take into account all the packages that are installed. This behaviour is the source of the following dependency conflicts.\n",
            "imageio 2.31.6 requires pillow<10.1.0,>=8.3.2, but you have pillow 10.3.0 which is incompatible.\u001b[0m\u001b[31m\n",
            "\u001b[0m"
          ]
        }
      ],
      "source": [
        "import warnings\n",
        "warnings.filterwarnings('ignore')\n",
        "\n",
        "#Install Google Auth API access\n",
        "!pip install -q google-auth-oauthlib;\n",
        "!pip install -q google-auth;\n",
        "!pip install --upgrade -q google-auth;\n",
        "\n",
        "#Install Langchain\n",
        "!pip install -q langchain openai chromadb;\n",
        "!pip install -q tiktoken;\n",
        "!pip install -q langchain-experimental;\n",
        "!pip install --upgrade --quiet  langchain-google-genai pillow;\n",
        "!pip install langchain_openai --q"
      ]
    },
    {
      "cell_type": "markdown",
      "source": [
        "# **Welcome Message**"
      ],
      "metadata": {
        "id": "ocPNZtrk7y37"
      }
    },
    {
      "cell_type": "code",
      "source": [
        "import getpass\n",
        "import os\n",
        "\n",
        "import pathlib\n",
        "import textwrap\n",
        "\n",
        "import google.generativeai as genai\n",
        "\n",
        "from IPython.display import display\n",
        "from IPython.display import Markdown\n",
        "\n",
        "def to_markdown(text):\n",
        "  text = text.replace('•', '  *')\n",
        "  return Markdown(textwrap.indent(text, '> ', predicate=lambda _: True))\n",
        "\n",
        "# Used to securely store your API key\n",
        "from google.colab import userdata\n",
        "\n",
        "# Or use `os.getenv('GOOGLE_API_KEY')` to fetch an environment variable.\n",
        "GOOGLE_API_KEY=userdata.get('GOOGLE_API_KEY')\n",
        "\n",
        "genai.configure(api_key=GOOGLE_API_KEY)"
      ],
      "metadata": {
        "id": "90mq6Hnerrkf"
      },
      "execution_count": null,
      "outputs": []
    },
    {
      "cell_type": "code",
      "source": [
        "model = genai.GenerativeModel('gemini-pro')\n",
        "\n",
        "response = model.generate_content(\"Welcome to career coaching with Career Gemini\")\n",
        "to_markdown(response.text)"
      ],
      "metadata": {
        "colab": {
          "base_uri": "https://localhost:8080/",
          "height": 513
        },
        "id": "3FTZPi9ilVqj",
        "outputId": "e88c1f46-b8e7-4994-8c4c-2a8eb4cfb529"
      },
      "execution_count": null,
      "outputs": [
        {
          "output_type": "execute_result",
          "data": {
            "text/plain": [
              "<IPython.core.display.Markdown object>"
            ],
            "text/markdown": "> **Welcome to Career Coaching with Career Gemini**\n> \n> **Your Expert Career Navigator**\n> \n> At Career Gemini, we understand the complexities of career journeys and the challenges you may face along the way. Our team of experienced career coaches is here to guide you towards your professional aspirations and empower you to achieve your full potential.\n> \n> **Our Services:**\n> \n> * **Career Strategy and Planning:** Discover your career goals, explore industries, and develop a customized plan to achieve your objectives.\n> * **Resume and Cover Letter Writing:** Craft compelling resumes and cover letters that showcase your skills and experience, attracting the attention of potential employers.\n> * **Interview Preparation:** Master the art of interviewing by practicing your responses, developing effective strategies, and overcoming common challenges.\n> * **Job Search Optimization:** Leverage LinkedIn, online job boards, and networking to effectively search for and apply to opportunities that align with your interests.\n> * **Salary Negotiation:** Learn negotiation techniques to secure fair compensation and advance your financial goals.\n> * **Career Transition and Advancement:** Navigate career transitions, explore new roles, and develop strategies for professional growth.\n> \n> **Our Approach:**\n> \n> * **Personalized Coaching:** Tailored guidance and support that addresses your individual needs and career goals.\n> * **Evidence-Based Practices:** Our approach is grounded in research and industry best practices, ensuring the most effective strategies.\n> * **Confidentiality and Trust:** We maintain strict confidentiality and provide a safe space for you to explore your career aspirations.\n> \n> **Our Commitment:**\n> \n> We are committed to providing you with the highest quality career coaching services. Our goal is to empower you with the knowledge, skills, and confidence to achieve your career dreams.\n> \n> **Get Started Today:**\n> \n> Schedule a complimentary consultation to learn more about our services and how we can help you accelerate your career journey. Contact us today and take the first step towards a more fulfilling and successful career."
          },
          "metadata": {},
          "execution_count": 47
        }
      ]
    },
    {
      "cell_type": "markdown",
      "source": [
        "# **Import CV as a DPF to query**"
      ],
      "metadata": {
        "id": "wOew6V_Fu40T"
      }
    },
    {
      "cell_type": "code",
      "source": [
        "!pip install langchain_openai --q;\n",
        "!pip install PyPDF2 --q;"
      ],
      "metadata": {
        "id": "NyIKgwNCekqW"
      },
      "execution_count": null,
      "outputs": []
    },
    {
      "cell_type": "code",
      "source": [
        "from google.colab import files\n",
        "uploaded = files.upload()"
      ],
      "metadata": {
        "colab": {
          "base_uri": "https://localhost:8080/",
          "height": 69
        },
        "id": "w7dctn-SnR0I",
        "outputId": "3a51129b-84eb-4337-a68d-932d309c8ff6"
      },
      "execution_count": null,
      "outputs": [
        {
          "output_type": "display_data",
          "data": {
            "text/plain": [
              "<IPython.core.display.HTML object>"
            ],
            "text/html": [
              "\n",
              "     <input type=\"file\" id=\"files-7e6c227a-47e7-4bbd-9c7b-16e3cba29341\" name=\"files[]\" multiple disabled\n",
              "        style=\"border:none\" />\n",
              "     <output id=\"result-7e6c227a-47e7-4bbd-9c7b-16e3cba29341\">\n",
              "      Upload widget is only available when the cell has been executed in the\n",
              "      current browser session. Please rerun this cell to enable.\n",
              "      </output>\n",
              "      <script>// Copyright 2017 Google LLC\n",
              "//\n",
              "// Licensed under the Apache License, Version 2.0 (the \"License\");\n",
              "// you may not use this file except in compliance with the License.\n",
              "// You may obtain a copy of the License at\n",
              "//\n",
              "//      http://www.apache.org/licenses/LICENSE-2.0\n",
              "//\n",
              "// Unless required by applicable law or agreed to in writing, software\n",
              "// distributed under the License is distributed on an \"AS IS\" BASIS,\n",
              "// WITHOUT WARRANTIES OR CONDITIONS OF ANY KIND, either express or implied.\n",
              "// See the License for the specific language governing permissions and\n",
              "// limitations under the License.\n",
              "\n",
              "/**\n",
              " * @fileoverview Helpers for google.colab Python module.\n",
              " */\n",
              "(function(scope) {\n",
              "function span(text, styleAttributes = {}) {\n",
              "  const element = document.createElement('span');\n",
              "  element.textContent = text;\n",
              "  for (const key of Object.keys(styleAttributes)) {\n",
              "    element.style[key] = styleAttributes[key];\n",
              "  }\n",
              "  return element;\n",
              "}\n",
              "\n",
              "// Max number of bytes which will be uploaded at a time.\n",
              "const MAX_PAYLOAD_SIZE = 100 * 1024;\n",
              "\n",
              "function _uploadFiles(inputId, outputId) {\n",
              "  const steps = uploadFilesStep(inputId, outputId);\n",
              "  const outputElement = document.getElementById(outputId);\n",
              "  // Cache steps on the outputElement to make it available for the next call\n",
              "  // to uploadFilesContinue from Python.\n",
              "  outputElement.steps = steps;\n",
              "\n",
              "  return _uploadFilesContinue(outputId);\n",
              "}\n",
              "\n",
              "// This is roughly an async generator (not supported in the browser yet),\n",
              "// where there are multiple asynchronous steps and the Python side is going\n",
              "// to poll for completion of each step.\n",
              "// This uses a Promise to block the python side on completion of each step,\n",
              "// then passes the result of the previous step as the input to the next step.\n",
              "function _uploadFilesContinue(outputId) {\n",
              "  const outputElement = document.getElementById(outputId);\n",
              "  const steps = outputElement.steps;\n",
              "\n",
              "  const next = steps.next(outputElement.lastPromiseValue);\n",
              "  return Promise.resolve(next.value.promise).then((value) => {\n",
              "    // Cache the last promise value to make it available to the next\n",
              "    // step of the generator.\n",
              "    outputElement.lastPromiseValue = value;\n",
              "    return next.value.response;\n",
              "  });\n",
              "}\n",
              "\n",
              "/**\n",
              " * Generator function which is called between each async step of the upload\n",
              " * process.\n",
              " * @param {string} inputId Element ID of the input file picker element.\n",
              " * @param {string} outputId Element ID of the output display.\n",
              " * @return {!Iterable<!Object>} Iterable of next steps.\n",
              " */\n",
              "function* uploadFilesStep(inputId, outputId) {\n",
              "  const inputElement = document.getElementById(inputId);\n",
              "  inputElement.disabled = false;\n",
              "\n",
              "  const outputElement = document.getElementById(outputId);\n",
              "  outputElement.innerHTML = '';\n",
              "\n",
              "  const pickedPromise = new Promise((resolve) => {\n",
              "    inputElement.addEventListener('change', (e) => {\n",
              "      resolve(e.target.files);\n",
              "    });\n",
              "  });\n",
              "\n",
              "  const cancel = document.createElement('button');\n",
              "  inputElement.parentElement.appendChild(cancel);\n",
              "  cancel.textContent = 'Cancel upload';\n",
              "  const cancelPromise = new Promise((resolve) => {\n",
              "    cancel.onclick = () => {\n",
              "      resolve(null);\n",
              "    };\n",
              "  });\n",
              "\n",
              "  // Wait for the user to pick the files.\n",
              "  const files = yield {\n",
              "    promise: Promise.race([pickedPromise, cancelPromise]),\n",
              "    response: {\n",
              "      action: 'starting',\n",
              "    }\n",
              "  };\n",
              "\n",
              "  cancel.remove();\n",
              "\n",
              "  // Disable the input element since further picks are not allowed.\n",
              "  inputElement.disabled = true;\n",
              "\n",
              "  if (!files) {\n",
              "    return {\n",
              "      response: {\n",
              "        action: 'complete',\n",
              "      }\n",
              "    };\n",
              "  }\n",
              "\n",
              "  for (const file of files) {\n",
              "    const li = document.createElement('li');\n",
              "    li.append(span(file.name, {fontWeight: 'bold'}));\n",
              "    li.append(span(\n",
              "        `(${file.type || 'n/a'}) - ${file.size} bytes, ` +\n",
              "        `last modified: ${\n",
              "            file.lastModifiedDate ? file.lastModifiedDate.toLocaleDateString() :\n",
              "                                    'n/a'} - `));\n",
              "    const percent = span('0% done');\n",
              "    li.appendChild(percent);\n",
              "\n",
              "    outputElement.appendChild(li);\n",
              "\n",
              "    const fileDataPromise = new Promise((resolve) => {\n",
              "      const reader = new FileReader();\n",
              "      reader.onload = (e) => {\n",
              "        resolve(e.target.result);\n",
              "      };\n",
              "      reader.readAsArrayBuffer(file);\n",
              "    });\n",
              "    // Wait for the data to be ready.\n",
              "    let fileData = yield {\n",
              "      promise: fileDataPromise,\n",
              "      response: {\n",
              "        action: 'continue',\n",
              "      }\n",
              "    };\n",
              "\n",
              "    // Use a chunked sending to avoid message size limits. See b/62115660.\n",
              "    let position = 0;\n",
              "    do {\n",
              "      const length = Math.min(fileData.byteLength - position, MAX_PAYLOAD_SIZE);\n",
              "      const chunk = new Uint8Array(fileData, position, length);\n",
              "      position += length;\n",
              "\n",
              "      const base64 = btoa(String.fromCharCode.apply(null, chunk));\n",
              "      yield {\n",
              "        response: {\n",
              "          action: 'append',\n",
              "          file: file.name,\n",
              "          data: base64,\n",
              "        },\n",
              "      };\n",
              "\n",
              "      let percentDone = fileData.byteLength === 0 ?\n",
              "          100 :\n",
              "          Math.round((position / fileData.byteLength) * 100);\n",
              "      percent.textContent = `${percentDone}% done`;\n",
              "\n",
              "    } while (position < fileData.byteLength);\n",
              "  }\n",
              "\n",
              "  // All done.\n",
              "  yield {\n",
              "    response: {\n",
              "      action: 'complete',\n",
              "    }\n",
              "  };\n",
              "}\n",
              "\n",
              "scope.google = scope.google || {};\n",
              "scope.google.colab = scope.google.colab || {};\n",
              "scope.google.colab._files = {\n",
              "  _uploadFiles,\n",
              "  _uploadFilesContinue,\n",
              "};\n",
              "})(self);\n",
              "</script> "
            ]
          },
          "metadata": {}
        },
        {
          "output_type": "stream",
          "name": "stdout",
          "text": [
            "Saving EliaBrodsky Resume - 010124.pdf to EliaBrodsky Resume - 010124 (2).pdf\n"
          ]
        }
      ]
    },
    {
      "cell_type": "markdown",
      "source": [
        "## Extract user background from CV"
      ],
      "metadata": {
        "id": "O34WsgGX_iAM"
      }
    },
    {
      "cell_type": "code",
      "source": [
        "import PyPDF2\n",
        "import pandas as pd\n",
        "from IPython.display import Markdown\n",
        "\n",
        "# Assuming all your imports for langchain and Google Generative AI work as intended\n",
        "\n",
        "def extract_text_from_pdf(pdf_path):\n",
        "    with open(pdf_path, 'rb') as pdf_file:\n",
        "        pdf_reader = PyPDF2.PdfReader(pdf_file)\n",
        "        num_pages = len(pdf_reader.pages)\n",
        "\n",
        "        document_text = \"\"\n",
        "        for page_num in range(num_pages):\n",
        "            page = pdf_reader.pages[page_num]\n",
        "            page_text = page.extract_text()\n",
        "            if page_text:\n",
        "                document_text += page_text\n",
        "\n",
        "    return document_text\n",
        "\n",
        "def chat_with_pdf_and_store_data(pdf_path):\n",
        "    global response_df\n",
        "\n",
        "    document_text = extract_text_from_pdf(pdf_path)\n",
        "\n",
        "    questions = [\n",
        "        \"What is the user name, email, address and linkedin?\",\n",
        "        \"What are the jobs the user held with start date, end date and key experience in each position?\",\n",
        "        \"What is the user background in terms of industry, length of experience and unique features?\",\n",
        "        \"How many years of experience does the user have in which industries?\",\n",
        "        \"What are the specific skills the user brings to the table?\"\n",
        "    ]\n",
        "\n",
        "    responses = []  # Initialize list to store responses\n",
        "\n",
        "    for question in questions:\n",
        "        response = query_gemini(question, document_text)  # Pass document context\n",
        "        responses.append(response)  # Store response in the list\n",
        "\n",
        "    # Create a DataFrame to display questions and responses\n",
        "    data = {\"Question\": questions, \"Response\": [response.content for response in responses]}\n",
        "    response_df = pd.DataFrame(data)\n",
        "\n",
        "    # Display the DataFrame in Markdown format in the notebook\n",
        "    display(Markdown(response_df.to_markdown()))\n",
        "\n",
        "def query_gemini(question, document_context):\n",
        "    # Create an instance of the Gemini LLM\n",
        "    llm = ChatGoogleGenerativeAI(model=\"gemini-pro\")\n",
        "\n",
        "    # Combine user prompt and document context\n",
        "    combined_input = f\"{question} {document_context}\"\n",
        "\n",
        "    # Invoke the model with the combined input\n",
        "    result = llm.invoke(combined_input)\n",
        "\n",
        "    # Extract and return the response from the result\n",
        "    response = result\n",
        "    return response\n",
        "\n",
        "pdf_path = \"/content/EliaBrodsky Resume - 010124.pdf\"\n",
        "chat_with_pdf_and_store_data(pdf_path)\n"
      ],
      "metadata": {
        "colab": {
          "base_uri": "https://localhost:8080/",
          "height": 1000
        },
        "id": "gUjNqcx_94xS",
        "outputId": "f8381a36-1174-4fd1-ba3c-77e170e1fbd2"
      },
      "execution_count": null,
      "outputs": [
        {
          "output_type": "display_data",
          "data": {
            "text/plain": [
              "<IPython.core.display.Markdown object>"
            ],
            "text/markdown": "|    | Question                                                                                       | Response                                                                                                                                                                                          |\n|---:|:-----------------------------------------------------------------------------------------------|:--------------------------------------------------------------------------------------------------------------------------------------------------------------------------------------------------|\n|  0 | What is the user name, email, address and linkedin?                                            | **User Name:** Eli Brodsky                                                                                                                                                                        |\n|    |                                                                                                |                                                                                                                                                                                                   |\n|    |                                                                                                | **Email:** ebrodsky@tulane.edu                                                                                                                                                                    |\n|    |                                                                                                |                                                                                                                                                                                                   |\n|    |                                                                                                | **Address:** New Orleans, LA                                                                                                                                                                      |\n|    |                                                                                                |                                                                                                                                                                                                   |\n|    |                                                                                                | **LinkedIn:** linkedin.com/in/eliabrodsky                                                                                                                                                         |\n|  1 | What are the jobs the user held with start date, end date and key experience in each position? | **ASCENSION HEALTH - DEPAUL COMMUNITY HEALTH CENTERS**                                                                                                                                            |\n|    |                                                                                                | * Business Development Executive                                                                                                                                                                  |\n|    |                                                                                                | * December 2022 - Present                                                                                                                                                                         |\n|    |                                                                                                | * New Orleans, LA                                                                                                                                                                                 |\n|    |                                                                                                |                                                                                                                                                                                                   |\n|    |                                                                                                | **Key Experience:**                                                                                                                                                                               |\n|    |                                                                                                | * Orchestrated streamlined operations across 11 clinics and 26 schools, integrating value-based contracts and metrics for healthcare providers.                                                   |\n|    |                                                                                                | * Collaborated with the executive team to assess strategic opportunities, develop project plans, and report on key performance indicators (KPIs) with a focus on Medicare and Medicaid standards. |\n|    |                                                                                                | * Led the implementation of data governance initiatives to fortify data security, ensuring accurate reporting and compliance with evolving standards.                                             |\n|    |                                                                                                | * Enhanced data management capabilities across multiple EHRs, employing Tableau Dashboards and Azara DRVS for comprehensive reporting.                                                            |\n|    |                                                                                                | * Specialized in analytical dashboard development, project management, credentialing, healthcare analytics, data security, and financial assessment.                                              |\n|    |                                                                                                | * Spearheaded strategic growth initiatives for Federally Qualified Health Centers (FQHCs), aligning with developing standards in Medicare and Medicaid.                                           |\n|    |                                                                                                |                                                                                                                                                                                                   |\n|    |                                                                                                | **PINE BIOTECH, INC.**                                                                                                                                                                            |\n|    |                                                                                                | * Co-founder & CEO                                                                                                                                                                                |\n|    |                                                                                                | * 2014 - 2022                                                                                                                                                                                     |\n|    |                                                                                                | * New Orleans, LA, Boston, MA                                                                                                                                                                     |\n|    |                                                                                                |                                                                                                                                                                                                   |\n|    |                                                                                                | **Key Experience:**                                                                                                                                                                               |\n|    |                                                                                                | * Raised over $1 million in startup capital from private and corporate investors.                                                                                                                 |\n|    |                                                                                                | * Secured federal agency grants (USDA, NIH, DoD/DARPA, NSF) for life-science data analytics and educational business development.                                                                 |\n|    |                                                                                                | * Developed compelling customer case studies, financial projections, and product presentations.                                                                                                   |\n|    |                                                                                                | * Achieved profitability with an annual growth rate exceeding 150% YoY.                                                                                                                           |\n|    |                                                                                                | * Managed project proposals with budgets exceeding $1 million, including federal grants and academic grant subcontracts.                                                                          |\n|    |                                                                                                | * Collaborated with academic research institutions (UCSF, Stanford, Boston University, LSU, Tulane) and pharmaceutical companies.                                                                 |\n|    |                                                                                                | * Organized and led research studies and Key Opinion Leader (KOL) events on bioinformatics, machine learning, and biomedical research.                                                            |\n|    |                                                                                                | * Successfully launched three products in international markets (US, India, Nigeria, Brazil).                                                                                                     |\n|    |                                                                                                | * Oversaw recruitment and training of marketing and software development teams for global product commercialization.                                                                              |\n|    |                                                                                                |                                                                                                                                                                                                   |\n|    |                                                                                                | **METHENA**                                                                                                                                                                                       |\n|    |                                                                                                | * Product Development Advisor                                                                                                                                                                     |\n|    |                                                                                                | * 2022 - 2023                                                                                                                                                                                     |\n|    |                                                                                                | * San Francisco, CA                                                                                                                                                                               |\n|    |                                                                                                |                                                                                                                                                                                                   |\n|    |                                                                                                | **Key Experience:**                                                                                                                                                                               |\n|    |                                                                                                | * Advised the CEO and founder, playing a pivotal role in strategic planning and Series A fundraising preparation.                                                                                 |\n|    |                                                                                                | * Innovated by introducing solutions in sentiment analysis, natural language processing (NLP), and developing a predictive model using proprietary and public domain higher education data.       |\n|    |                                                                                                | * Identified strategic targets and key performance indicators (KPI) for investor engagement.                                                                                                      |\n|    |                                                                                                | * Led the development of platform prototypes for video sentiment analysis and voice transcription.                                                                                                |\n|    |                                                                                                | * Successfully recruited and trained a software development team for proof-of-concept (POC) development.                                                                                          |\n|    |                                                                                                | * Managed a software development team to prepare for customer demonstrations.                                                                                                                     |\n|    |                                                                                                |                                                                                                                                                                                                   |\n|    |                                                                                                | **GEORGETOWN UNIVERSITY SCHOOL OF MEDICINE**                                                                                                                                                      |\n|    |                                                                                                | * Course Author & Instructor                                                                                                                                                                      |\n|    |                                                                                                | * 2019 - 2022                                                                                                                                                                                     |\n|    |                                                                                                | * Washington D.C.                                                                                                                                                                                 |\n|    |                                                                                                |                                                                                                                                                                                                   |\n|    |                                                                                                | **Key Experience:**                                                                                                                                                                               |\n|    |                                                                                                | * Authored and instructed the graduate Systems Medicine Program course, \"Machine Learning for Biomedical Data\" under Dr. Sona Vasudevan.                                                          |\n|    |                                                                                                | * Developed a project-based 3-credit course emphasizing workforce-ready skills in data analytics, Python programming, and their applications in medical and life science research.                |\n|    |                                                                                                | * Utilized Python and Scikit to cover topics such as data preparation, exploratory analysis, unsupervised and supervised machine learning, and deep learning.                                     |\n|    |                                                                                                | * Prepared engaging project examples and case studies for class exercises and assignments.                                                                                                        |\n|    |                                                                                                | * Mentored 10-20 graduate students annually, guiding them through bioinformatics and data science projects.                                                                                       |\n|  2 | What is the user background in terms of industry, length of experience and unique features?    | **User Background**                                                                                                                                                                               |\n|    |                                                                                                |                                                                                                                                                                                                   |\n|    |                                                                                                | **Industry Experience:**                                                                                                                                                                          |\n|    |                                                                                                |                                                                                                                                                                                                   |\n|    |                                                                                                | * Information technologies                                                                                                                                                                        |\n|    |                                                                                                | * Marketing                                                                                                                                                                                       |\n|    |                                                                                                | * Healthcare strategy                                                                                                                                                                             |\n|    |                                                                                                |                                                                                                                                                                                                   |\n|    |                                                                                                | **Length of Experience:**                                                                                                                                                                         |\n|    |                                                                                                |                                                                                                                                                                                                   |\n|    |                                                                                                | * Over 10 years of professional experience                                                                                                                                                        |\n|    |                                                                                                |                                                                                                                                                                                                   |\n|    |                                                                                                | **Unique Features:**                                                                                                                                                                              |\n|    |                                                                                                |                                                                                                                                                                                                   |\n|    |                                                                                                | * Cross-industry international business experience                                                                                                                                                |\n|    |                                                                                                | * Expertise in strategy, planning, risk management, and project management                                                                                                                        |\n|    |                                                                                                | * Data-driven decision-making and operational excellence                                                                                                                                          |\n|    |                                                                                                | * Expertise in healthcare data management, bioinformatics, and healthcare analytics                                                                                                               |\n|    |                                                                                                | * Management of software development processes and teams                                                                                                                                          |\n|    |                                                                                                | * Healthcare credentialing and onboarding                                                                                                                                                         |\n|    |                                                                                                | * Workforce development, recruitment, and training                                                                                                                                                |\n|  3 | How many years of experience does the user have in which industries?                           | Eli Brodsky has experience in the following industries:                                                                                                                                           |\n|    |                                                                                                |                                                                                                                                                                                                   |\n|    |                                                                                                | - Information technologies                                                                                                                                                                        |\n|    |                                                                                                | - Marketing                                                                                                                                                                                       |\n|    |                                                                                                | - Healthcare strategy                                                                                                                                                                             |\n|    |                                                                                                | - Digital marketing                                                                                                                                                                               |\n|    |                                                                                                | - Sales support                                                                                                                                                                                   |\n|    |                                                                                                | - Financial analysis                                                                                                                                                                              |\n|    |                                                                                                | - Management                                                                                                                                                                                      |\n|    |                                                                                                | - Process optimization                                                                                                                                                                            |\n|    |                                                                                                | - Operational effectiveness                                                                                                                                                                       |\n|    |                                                                                                | - Implementation of technology and software solutions                                                                                                                                             |\n|    |                                                                                                | - Healthcare and life sciences data management                                                                                                                                                    |\n|    |                                                                                                | - Bioinformatics                                                                                                                                                                                  |\n|    |                                                                                                | - Healthcare analytics                                                                                                                                                                            |\n|    |                                                                                                | - Management of software development processes and teams                                                                                                                                          |\n|    |                                                                                                | - Healthcare credentialing and onboarding                                                                                                                                                         |\n|    |                                                                                                | - Workforce development                                                                                                                                                                           |\n|    |                                                                                                | - Recruitment                                                                                                                                                                                     |\n|    |                                                                                                | - Training                                                                                                                                                                                        |\n|  4 | What are the specific skills the user brings to the table?                                     | **Technical Skills:**                                                                                                                                                                             |\n|    |                                                                                                |                                                                                                                                                                                                   |\n|    |                                                                                                | * Data management and analysis (Tableau, Azara DRVS, Python, R, MS Power BI)                                                                                                                      |\n|    |                                                                                                | * Project management (MS Project)                                                                                                                                                                 |\n|    |                                                                                                | * Software development (eCW, QS/1, Dentrix, Officemate, MS Dynamix)                                                                                                                               |\n|    |                                                                                                | * Healthcare IT (EHRs)                                                                                                                                                                            |\n|    |                                                                                                | * Bioinformatics and healthcare analytics                                                                                                                                                         |\n|    |                                                                                                | * Machine learning and natural language processing (NLP)                                                                                                                                          |\n|    |                                                                                                | * Video editing and animation (Adobe Stack, Blender, Maya, Apple Motion, Final Cut, DaVinci Resolve)                                                                                              |\n|    |                                                                                                |                                                                                                                                                                                                   |\n|    |                                                                                                | **Business Skills:**                                                                                                                                                                              |\n|    |                                                                                                |                                                                                                                                                                                                   |\n|    |                                                                                                | * Strategy and planning                                                                                                                                                                           |\n|    |                                                                                                | * Business development and marketing                                                                                                                                                              |\n|    |                                                                                                | * Financial analysis and projections                                                                                                                                                              |\n|    |                                                                                                | * Management and operational effectiveness                                                                                                                                                        |\n|    |                                                                                                | * Workforce development and training                                                                                                                                                              |\n|    |                                                                                                | * Healthcare credentialing and onboarding                                                                                                                                                         |\n|    |                                                                                                |                                                                                                                                                                                                   |\n|    |                                                                                                | **Other Skills:**                                                                                                                                                                                 |\n|    |                                                                                                |                                                                                                                                                                                                   |\n|    |                                                                                                | * Risk management                                                                                                                                                                                 |\n|    |                                                                                                | * Team leadership and collaboration                                                                                                                                                               |\n|    |                                                                                                | * Communication and presentation                                                                                                                                                                  |\n|    |                                                                                                | * Data-driven decision making                                                                                                                                                                     |\n|    |                                                                                                | * Problem solving and innovation                                                                                                                                                                  |"
          },
          "metadata": {}
        }
      ]
    },
    {
      "cell_type": "markdown",
      "source": [
        "# Generate updated Resume Based on User's Selected Industry"
      ],
      "metadata": {
        "id": "nxmGK0FQ3LTq"
      }
    },
    {
      "cell_type": "code",
      "source": [
        "display(Markdown(response_df.Response[0]))"
      ],
      "metadata": {
        "colab": {
          "base_uri": "https://localhost:8080/",
          "height": 115
        },
        "id": "g08-e94d8F1a",
        "outputId": "58b27281-ef95-4552-8e7e-625d1bc1dee2"
      },
      "execution_count": null,
      "outputs": [
        {
          "output_type": "display_data",
          "data": {
            "text/plain": [
              "<IPython.core.display.Markdown object>"
            ],
            "text/markdown": "**User Name:** Eli Brodsky\n\n**Email:** ebrodsky@tulane.edu\n\n**Address:** New Orleans, LA\n\n**LinkedIn:** linkedin.com/in/eliabrodsky"
          },
          "metadata": {}
        }
      ]
    },
    {
      "cell_type": "code",
      "source": [
        "from langchain.agents.agent_types import AgentType\n",
        "from langchain_experimental.agents.agent_toolkits import create_pandas_dataframe_agent\n",
        "from langchain_google_genai import ChatGoogleGenerativeAI\n",
        "import os\n",
        "\n",
        "llm = ChatGoogleGenerativeAI(model=\"gemini-pro\")\n",
        "industry_def = input(\"What industry are you interested in? \" )\n",
        "combined_input = f\"\"\"Based on user industry captured in {industry_def}, analyze information provided\n",
        "  by the 'user', whose information is provided in {response_df.Response[1]}, print out a summary message\n",
        "  stating how good the resume is for the selected industry. If experience is not relevant to the\n",
        "  selected industry, provide alteranative suggestions to industries where it is a better fit\"\"\"\n",
        "result = llm.invoke(combined_input)\n",
        "display(Markdown(result.content))"
      ],
      "metadata": {
        "colab": {
          "base_uri": "https://localhost:8080/",
          "height": 177
        },
        "id": "ll1bK6wD0Bmq",
        "outputId": "29708eed-420b-4b77-a5b7-902db407cd4c"
      },
      "execution_count": null,
      "outputs": [
        {
          "name": "stdout",
          "output_type": "stream",
          "text": [
            "What industry are you interested in? energy\n"
          ]
        },
        {
          "output_type": "display_data",
          "data": {
            "text/plain": [
              "<IPython.core.display.Markdown object>"
            ],
            "text/markdown": "**Summary Message:**\n\nThe resume of the individual from ASCENSION HEALTH - DEPAUL COMMUNITY HEALTH CENTERS exhibits strong experience in healthcare administration, data analytics, and strategic planning. While the resume primarily focuses on the healthcare industry, the individual's skills in data governance, project management, and financial assessment could be valuable to other industries, such as:\n\n* **Healthcare IT:** Data management and analytics are critical to the success of healthcare organizations.\n* **Pharmaceuticals:** The individual's experience in strategic planning and fundraising could be beneficial in the pharmaceutical industry.\n* **Biotechnology:** The individual's background in bioinformatics and life-science data analytics would be highly relevant to this industry."
          },
          "metadata": {}
        }
      ]
    },
    {
      "cell_type": "code",
      "source": [
        "industry_def1 = input(\"Based on this response, what industry are you interested in? \" )\n",
        "user_interest = f\"\"\"Based on user industry captured in {industry_def1}, print out a summary message\n",
        "  stating what are the skills, experiences and accomplishments this user has to offer in the industry\n",
        "  using only information found in {response_df.Response[1:4]}\"\"\"\n",
        "result_sum = llm.invoke(user_interest)\n",
        "display(Markdown(result.content))"
      ],
      "metadata": {
        "colab": {
          "base_uri": "https://localhost:8080/",
          "height": 177
        },
        "id": "Sakvd0zK8bSk",
        "outputId": "349614a0-3be9-474e-a70d-dbfee02578ee"
      },
      "execution_count": null,
      "outputs": [
        {
          "name": "stdout",
          "output_type": "stream",
          "text": [
            "Based on this response, what industry are you interested in? healthcare IT\n"
          ]
        },
        {
          "output_type": "display_data",
          "data": {
            "text/plain": [
              "<IPython.core.display.Markdown object>"
            ],
            "text/markdown": "**Summary Message:**\n\nThe resume of the individual from ASCENSION HEALTH - DEPAUL COMMUNITY HEALTH CENTERS exhibits strong experience in healthcare administration, data analytics, and strategic planning. While the resume primarily focuses on the healthcare industry, the individual's skills in data governance, project management, and financial assessment could be valuable to other industries, such as:\n\n* **Healthcare IT:** Data management and analytics are critical to the success of healthcare organizations.\n* **Pharmaceuticals:** The individual's experience in strategic planning and fundraising could be beneficial in the pharmaceutical industry.\n* **Biotechnology:** The individual's background in bioinformatics and life-science data analytics would be highly relevant to this industry."
          },
          "metadata": {}
        }
      ]
    },
    {
      "cell_type": "code",
      "source": [
        "combined_input = f\"\"\"\n",
        "  Generate a new Resume for the user, start with contact information\n",
        "  on top using only text from {response_df.Response[0]}, then\n",
        "  generate a summary statement at the start of the document using 3 sentences and 250 characters,\n",
        "  adapt the user background to the industry {industry_def1} and list relevant professional experience in the past 10 years,\n",
        "  include information from {result_sum} in the summary and consider as context for the main resume,\n",
        "  write the professional experience section only using information provided in the following dataframe:' {response_df.Response[1:3]}, include\n",
        "  the following sections: 1. introduction, 2. professional experience, 3. education 4. additional information\"\"\"\n",
        "result = llm.invoke(combined_input)\n",
        "display(Markdown(result.content))"
      ],
      "metadata": {
        "colab": {
          "base_uri": "https://localhost:8080/",
          "height": 618
        },
        "id": "FmrluirD6Bk9",
        "outputId": "de792b15-5465-4008-d98f-1f419120debf"
      },
      "execution_count": null,
      "outputs": [
        {
          "output_type": "display_data",
          "data": {
            "text/plain": [
              "<IPython.core.display.Markdown object>"
            ],
            "text/markdown": "**Eli Brodsky**\n\nNew Orleans, LA\nebrodsky@tulane.edu\nlinkedin.com/in/eliabrodsky\n\n**Summary**\n\nSeasoned healthcare IT professional with a proven track record of success in the healthcare, medical device, and biotechnology industries. Expertise in leveraging technology to improve patient outcomes, streamline operations, and optimize resource allocation.\n\n**Professional Experience**\n\n**ASCENSION HEALTH - DEPAUL COMMUNITY HEALTH CENTER**\n\n* Senior Business Analyst, Healthcare IT | 2018 - Present\n  * Led the implementation of a new EHR system, resulting in a 15% reduction in patient wait times and a 20% increase in patient satisfaction.\n  * Developed and executed a data analytics strategy to identify trends and improve patient care.\n  * Collaborated with clinical and administrative staff to optimize workflows and enhance patient safety.\n\n**USER BACKGROUND**\n\n**Industry Experience:**\n* Healthcare IT\n* Medical Device\n* Healthcare Consulting\n* Life Sciences\n* Biotechnology\n\n**Professional Experience:**\n* Senior Business Analyst, Healthcare IT | Ascension Health - DePaul Community Health Center | 2018 - Present\n* Healthcare IT Consultant | Deloitte Consulting | 2013 - 2018\n* Project Manager, Medical Device Development | Stryker Corporation | 2010 - 2013\n\n**Education**\n\n* Master of Science in Healthcare Informatics, Tulane University\n* Bachelor of Science in Computer Science, University of Alabama\n\n**Additional Information**\n\n* Certified Healthcare Information Manager (CHIM)\n* Member of the Healthcare Information and Management Systems Society (HIMSS)\n* Fluent in Spanish"
          },
          "metadata": {}
        }
      ]
    },
    {
      "cell_type": "markdown",
      "source": [
        "## Make a new CV PDF"
      ],
      "metadata": {
        "id": "hVs7kS4zy6jv"
      }
    },
    {
      "cell_type": "code",
      "source": [
        "!pip install reportlab --q\n",
        "!pip install markdown2 --q\n",
        "!pip install weasyprint --q"
      ],
      "metadata": {
        "id": "MBolYtdry81T"
      },
      "execution_count": null,
      "outputs": []
    },
    {
      "cell_type": "code",
      "source": [
        "import markdown2\n",
        "from weasyprint import HTML\n",
        "\n",
        "def markdown_to_pdf(markdown_text, output_filename):\n",
        "    # Convert Markdown to HTML\n",
        "    html_text = markdown2.markdown(markdown_text)\n",
        "\n",
        "    # Add some custom styling with CSS\n",
        "    html_text = f\"\"\"\n",
        "    <html>\n",
        "    <head>\n",
        "    <style>\n",
        "        body {{\n",
        "            font-family: \"Helvetica\";\n",
        "            font-size: 12pt;\n",
        "            margin: 24px;\n",
        "        }}\n",
        "        p {{\n",
        "            margin: 12px 0;\n",
        "        }}\n",
        "    </style>\n",
        "    </head>\n",
        "    <body>{html_text}</body>\n",
        "    </html>\n",
        "    \"\"\"\n",
        "\n",
        "    # Convert HTML to PDF\n",
        "    HTML(string=html_text).write_pdf(output_filename)\n",
        "\n",
        "# use generated text\n",
        "markdown_content = result.content\n",
        "\n",
        "# Specify the filename for the PDF\n",
        "pdf_filename = \"User_CV.pdf\"\n",
        "\n",
        "# Generate the PDF from Markdown\n",
        "markdown_to_pdf(markdown_content, pdf_filename)\n"
      ],
      "metadata": {
        "id": "5I_XjkuMzB9t"
      },
      "execution_count": null,
      "outputs": []
    }
  ]
}